{
 "cells": [
  {
   "cell_type": "markdown",
   "id": "1fa11fab",
   "metadata": {},
   "source": [
    "# F1  Project Transer Learning\n",
    "\n",
    "1. [Libraries](#1)\n",
    "2. [Data Preparation](#2)\n",
    "3. [Transfer Learning](#3)\n",
    "4. [Model Training](#4)\n",
    "5. [Visualization](#5)"
   ]
  },
  {
   "cell_type": "markdown",
   "id": "16615de5",
   "metadata": {},
   "source": [
    "<a id = '1'></a>\n",
    "## Libraries"
   ]
  },
  {
   "cell_type": "code",
   "execution_count": 1,
   "id": "628a1edf",
   "metadata": {},
   "outputs": [],
   "source": [
    "#libraries\n",
    "import matplotlib.pyplot as plt\n",
    "import tensorflow as tf\n",
    "from tensorflow.keras import layers\n",
    "from tensorflow.keras.preprocessing.image import ImageDataGenerator\n",
    "from tensorflow.keras.models import Sequential"
   ]
  },
  {
   "cell_type": "markdown",
   "id": "ebd810c0",
   "metadata": {},
   "source": [
    "<a id = '2'></a>\n",
    "## Data Preparation"
   ]
  },
  {
   "cell_type": "code",
   "execution_count": 2,
   "id": "55e01c1b",
   "metadata": {},
   "outputs": [],
   "source": [
    "#importing vgg16 model\n",
    "from tensorflow.keras.applications import VGG16\n",
    "preprocess_input = tf.keras.applications.vgg16.preprocess_input"
   ]
  },
  {
   "cell_type": "code",
   "execution_count": 3,
   "id": "e93348f8",
   "metadata": {},
   "outputs": [
    {
     "name": "stdout",
     "output_type": "stream",
     "text": [
      "Found 252 images belonging to 4 classes.\n",
      "Found 28 images belonging to 4 classes.\n"
     ]
    }
   ],
   "source": [
    "#directory \n",
    "dataDir = r'C:/Users/gorke/Desktop/dataf1'\n",
    "\n",
    "#data generating\n",
    "train_datagen = ImageDataGenerator(rescale = 1./255, validation_split = 0.1, preprocessing_function = preprocess_input)\n",
    "test_datagen = ImageDataGenerator(rescale = 1./255, validation_split = 0.1, preprocessing_function = preprocess_input)\n",
    "\n",
    "#flow from dir\n",
    "train_datagen = train_datagen.flow_from_directory(dataDir, target_size = (224,224), subset = 'training', batch_size= 2, class_mode = 'sparse')\n",
    "test_datagen = test_datagen.flow_from_directory(dataDir, target_size = (224,224), subset = 'validation', batch_size = 2, class_mode = 'sparse')"
   ]
  },
  {
   "cell_type": "markdown",
   "id": "b150e2e4",
   "metadata": {},
   "source": [
    "<a id = '3'></a>\n",
    "## Transfer Learning"
   ]
  },
  {
   "cell_type": "code",
   "execution_count": 4,
   "id": "2910409c",
   "metadata": {},
   "outputs": [],
   "source": [
    "vggModel = VGG16()"
   ]
  },
  {
   "cell_type": "code",
   "execution_count": 5,
   "id": "f30cfe75",
   "metadata": {},
   "outputs": [
    {
     "name": "stdout",
     "output_type": "stream",
     "text": [
      "Model: \"vgg16\"\n",
      "_________________________________________________________________\n",
      " Layer (type)                Output Shape              Param #   \n",
      "=================================================================\n",
      " input_1 (InputLayer)        [(None, 224, 224, 3)]     0         \n",
      "                                                                 \n",
      " block1_conv1 (Conv2D)       (None, 224, 224, 64)      1792      \n",
      "                                                                 \n",
      " block1_conv2 (Conv2D)       (None, 224, 224, 64)      36928     \n",
      "                                                                 \n",
      " block1_pool (MaxPooling2D)  (None, 112, 112, 64)      0         \n",
      "                                                                 \n",
      " block2_conv1 (Conv2D)       (None, 112, 112, 128)     73856     \n",
      "                                                                 \n",
      " block2_conv2 (Conv2D)       (None, 112, 112, 128)     147584    \n",
      "                                                                 \n",
      " block2_pool (MaxPooling2D)  (None, 56, 56, 128)       0         \n",
      "                                                                 \n",
      " block3_conv1 (Conv2D)       (None, 56, 56, 256)       295168    \n",
      "                                                                 \n",
      " block3_conv2 (Conv2D)       (None, 56, 56, 256)       590080    \n",
      "                                                                 \n",
      " block3_conv3 (Conv2D)       (None, 56, 56, 256)       590080    \n",
      "                                                                 \n",
      " block3_pool (MaxPooling2D)  (None, 28, 28, 256)       0         \n",
      "                                                                 \n",
      " block4_conv1 (Conv2D)       (None, 28, 28, 512)       1180160   \n",
      "                                                                 \n",
      " block4_conv2 (Conv2D)       (None, 28, 28, 512)       2359808   \n",
      "                                                                 \n",
      " block4_conv3 (Conv2D)       (None, 28, 28, 512)       2359808   \n",
      "                                                                 \n",
      " block4_pool (MaxPooling2D)  (None, 14, 14, 512)       0         \n",
      "                                                                 \n",
      " block5_conv1 (Conv2D)       (None, 14, 14, 512)       2359808   \n",
      "                                                                 \n",
      " block5_conv2 (Conv2D)       (None, 14, 14, 512)       2359808   \n",
      "                                                                 \n",
      " block5_conv3 (Conv2D)       (None, 14, 14, 512)       2359808   \n",
      "                                                                 \n",
      " block5_pool (MaxPooling2D)  (None, 7, 7, 512)         0         \n",
      "                                                                 \n",
      " flatten (Flatten)           (None, 25088)             0         \n",
      "                                                                 \n",
      " fc1 (Dense)                 (None, 4096)              102764544 \n",
      "                                                                 \n",
      " fc2 (Dense)                 (None, 4096)              16781312  \n",
      "                                                                 \n",
      " predictions (Dense)         (None, 1000)              4097000   \n",
      "                                                                 \n",
      "=================================================================\n",
      "Total params: 138,357,544\n",
      "Trainable params: 138,357,544\n",
      "Non-trainable params: 0\n",
      "_________________________________________________________________\n"
     ]
    }
   ],
   "source": [
    "#model summary\n",
    "vggModel.summary()"
   ]
  },
  {
   "cell_type": "code",
   "execution_count": 6,
   "id": "a40f8c67",
   "metadata": {},
   "outputs": [
    {
     "name": "stdout",
     "output_type": "stream",
     "text": [
      "<class 'keras.engine.functional.Functional'>\n"
     ]
    }
   ],
   "source": [
    "#type of vgg model\n",
    "print(type(vggModel))"
   ]
  },
  {
   "cell_type": "code",
   "execution_count": 7,
   "id": "ee916817",
   "metadata": {},
   "outputs": [],
   "source": [
    "model = Sequential()\n",
    "for layer in vggModel.layers[0:-1]:\n",
    "    model.add(layer)"
   ]
  },
  {
   "cell_type": "code",
   "execution_count": 8,
   "id": "d967e2d7",
   "metadata": {},
   "outputs": [
    {
     "name": "stdout",
     "output_type": "stream",
     "text": [
      "Model: \"sequential\"\n",
      "_________________________________________________________________\n",
      " Layer (type)                Output Shape              Param #   \n",
      "=================================================================\n",
      " block1_conv1 (Conv2D)       (None, 224, 224, 64)      1792      \n",
      "                                                                 \n",
      " block1_conv2 (Conv2D)       (None, 224, 224, 64)      36928     \n",
      "                                                                 \n",
      " block1_pool (MaxPooling2D)  (None, 112, 112, 64)      0         \n",
      "                                                                 \n",
      " block2_conv1 (Conv2D)       (None, 112, 112, 128)     73856     \n",
      "                                                                 \n",
      " block2_conv2 (Conv2D)       (None, 112, 112, 128)     147584    \n",
      "                                                                 \n",
      " block2_pool (MaxPooling2D)  (None, 56, 56, 128)       0         \n",
      "                                                                 \n",
      " block3_conv1 (Conv2D)       (None, 56, 56, 256)       295168    \n",
      "                                                                 \n",
      " block3_conv2 (Conv2D)       (None, 56, 56, 256)       590080    \n",
      "                                                                 \n",
      " block3_conv3 (Conv2D)       (None, 56, 56, 256)       590080    \n",
      "                                                                 \n",
      " block3_pool (MaxPooling2D)  (None, 28, 28, 256)       0         \n",
      "                                                                 \n",
      " block4_conv1 (Conv2D)       (None, 28, 28, 512)       1180160   \n",
      "                                                                 \n",
      " block4_conv2 (Conv2D)       (None, 28, 28, 512)       2359808   \n",
      "                                                                 \n",
      " block4_conv3 (Conv2D)       (None, 28, 28, 512)       2359808   \n",
      "                                                                 \n",
      " block4_pool (MaxPooling2D)  (None, 14, 14, 512)       0         \n",
      "                                                                 \n",
      " block5_conv1 (Conv2D)       (None, 14, 14, 512)       2359808   \n",
      "                                                                 \n",
      " block5_conv2 (Conv2D)       (None, 14, 14, 512)       2359808   \n",
      "                                                                 \n",
      " block5_conv3 (Conv2D)       (None, 14, 14, 512)       2359808   \n",
      "                                                                 \n",
      " block5_pool (MaxPooling2D)  (None, 7, 7, 512)         0         \n",
      "                                                                 \n",
      " flatten (Flatten)           (None, 25088)             0         \n",
      "                                                                 \n",
      " fc1 (Dense)                 (None, 4096)              102764544 \n",
      "                                                                 \n",
      " fc2 (Dense)                 (None, 4096)              16781312  \n",
      "                                                                 \n",
      "=================================================================\n",
      "Total params: 134,260,544\n",
      "Trainable params: 134,260,544\n",
      "Non-trainable params: 0\n",
      "_________________________________________________________________\n"
     ]
    }
   ],
   "source": [
    "#model summary\n",
    "model.summary()"
   ]
  },
  {
   "cell_type": "code",
   "execution_count": 9,
   "id": "2074efe1",
   "metadata": {},
   "outputs": [
    {
     "name": "stdout",
     "output_type": "stream",
     "text": [
      "Model: \"sequential\"\n",
      "_________________________________________________________________\n",
      " Layer (type)                Output Shape              Param #   \n",
      "=================================================================\n",
      " block1_conv1 (Conv2D)       (None, 224, 224, 64)      1792      \n",
      "                                                                 \n",
      " block1_conv2 (Conv2D)       (None, 224, 224, 64)      36928     \n",
      "                                                                 \n",
      " block1_pool (MaxPooling2D)  (None, 112, 112, 64)      0         \n",
      "                                                                 \n",
      " block2_conv1 (Conv2D)       (None, 112, 112, 128)     73856     \n",
      "                                                                 \n",
      " block2_conv2 (Conv2D)       (None, 112, 112, 128)     147584    \n",
      "                                                                 \n",
      " block2_pool (MaxPooling2D)  (None, 56, 56, 128)       0         \n",
      "                                                                 \n",
      " block3_conv1 (Conv2D)       (None, 56, 56, 256)       295168    \n",
      "                                                                 \n",
      " block3_conv2 (Conv2D)       (None, 56, 56, 256)       590080    \n",
      "                                                                 \n",
      " block3_conv3 (Conv2D)       (None, 56, 56, 256)       590080    \n",
      "                                                                 \n",
      " block3_pool (MaxPooling2D)  (None, 28, 28, 256)       0         \n",
      "                                                                 \n",
      " block4_conv1 (Conv2D)       (None, 28, 28, 512)       1180160   \n",
      "                                                                 \n",
      " block4_conv2 (Conv2D)       (None, 28, 28, 512)       2359808   \n",
      "                                                                 \n",
      " block4_conv3 (Conv2D)       (None, 28, 28, 512)       2359808   \n",
      "                                                                 \n",
      " block4_pool (MaxPooling2D)  (None, 14, 14, 512)       0         \n",
      "                                                                 \n",
      " block5_conv1 (Conv2D)       (None, 14, 14, 512)       2359808   \n",
      "                                                                 \n",
      " block5_conv2 (Conv2D)       (None, 14, 14, 512)       2359808   \n",
      "                                                                 \n",
      " block5_conv3 (Conv2D)       (None, 14, 14, 512)       2359808   \n",
      "                                                                 \n",
      " block5_pool (MaxPooling2D)  (None, 7, 7, 512)         0         \n",
      "                                                                 \n",
      " flatten (Flatten)           (None, 25088)             0         \n",
      "                                                                 \n",
      " fc1 (Dense)                 (None, 4096)              102764544 \n",
      "                                                                 \n",
      " fc2 (Dense)                 (None, 4096)              16781312  \n",
      "                                                                 \n",
      "=================================================================\n",
      "Total params: 134,260,544\n",
      "Trainable params: 0\n",
      "Non-trainable params: 134,260,544\n",
      "_________________________________________________________________\n"
     ]
    }
   ],
   "source": [
    "for layer in model.layers:\n",
    "    layer.trainable = False\n",
    "model.summary()"
   ]
  },
  {
   "cell_type": "code",
   "execution_count": 10,
   "id": "6aa468cc",
   "metadata": {},
   "outputs": [
    {
     "name": "stdout",
     "output_type": "stream",
     "text": [
      "Model: \"sequential\"\n",
      "_________________________________________________________________\n",
      " Layer (type)                Output Shape              Param #   \n",
      "=================================================================\n",
      " block1_conv1 (Conv2D)       (None, 224, 224, 64)      1792      \n",
      "                                                                 \n",
      " block1_conv2 (Conv2D)       (None, 224, 224, 64)      36928     \n",
      "                                                                 \n",
      " block1_pool (MaxPooling2D)  (None, 112, 112, 64)      0         \n",
      "                                                                 \n",
      " block2_conv1 (Conv2D)       (None, 112, 112, 128)     73856     \n",
      "                                                                 \n",
      " block2_conv2 (Conv2D)       (None, 112, 112, 128)     147584    \n",
      "                                                                 \n",
      " block2_pool (MaxPooling2D)  (None, 56, 56, 128)       0         \n",
      "                                                                 \n",
      " block3_conv1 (Conv2D)       (None, 56, 56, 256)       295168    \n",
      "                                                                 \n",
      " block3_conv2 (Conv2D)       (None, 56, 56, 256)       590080    \n",
      "                                                                 \n",
      " block3_conv3 (Conv2D)       (None, 56, 56, 256)       590080    \n",
      "                                                                 \n",
      " block3_pool (MaxPooling2D)  (None, 28, 28, 256)       0         \n",
      "                                                                 \n",
      " block4_conv1 (Conv2D)       (None, 28, 28, 512)       1180160   \n",
      "                                                                 \n",
      " block4_conv2 (Conv2D)       (None, 28, 28, 512)       2359808   \n",
      "                                                                 \n",
      " block4_conv3 (Conv2D)       (None, 28, 28, 512)       2359808   \n",
      "                                                                 \n",
      " block4_pool (MaxPooling2D)  (None, 14, 14, 512)       0         \n",
      "                                                                 \n",
      " block5_conv1 (Conv2D)       (None, 14, 14, 512)       2359808   \n",
      "                                                                 \n",
      " block5_conv2 (Conv2D)       (None, 14, 14, 512)       2359808   \n",
      "                                                                 \n",
      " block5_conv3 (Conv2D)       (None, 14, 14, 512)       2359808   \n",
      "                                                                 \n",
      " block5_pool (MaxPooling2D)  (None, 7, 7, 512)         0         \n",
      "                                                                 \n",
      " flatten (Flatten)           (None, 25088)             0         \n",
      "                                                                 \n",
      " fc1 (Dense)                 (None, 4096)              102764544 \n",
      "                                                                 \n",
      " fc2 (Dense)                 (None, 4096)              16781312  \n",
      "                                                                 \n",
      " dense (Dense)               (None, 4)                 16388     \n",
      "                                                                 \n",
      "=================================================================\n",
      "Total params: 134,276,932\n",
      "Trainable params: 16,388\n",
      "Non-trainable params: 134,260,544\n",
      "_________________________________________________________________\n"
     ]
    }
   ],
   "source": [
    "model.add(layers.Dense(4))\n",
    "model.summary()"
   ]
  },
  {
   "cell_type": "markdown",
   "id": "34c1044a",
   "metadata": {},
   "source": [
    "<a id = '4'></a>\n",
    "## Model Training"
   ]
  },
  {
   "cell_type": "code",
   "execution_count": 11,
   "id": "837c311b",
   "metadata": {},
   "outputs": [
    {
     "name": "stdout",
     "output_type": "stream",
     "text": [
      "Epoch 1/30\n",
      "126/126 [==============================] - 7s 38ms/step - loss: 1.6454 - accuracy: 0.2937 - val_loss: 1.7435 - val_accuracy: 0.2143\n",
      "Epoch 2/30\n",
      "126/126 [==============================] - 5s 36ms/step - loss: 1.3760 - accuracy: 0.3690 - val_loss: 1.5645 - val_accuracy: 0.2857\n",
      "Epoch 3/30\n",
      "126/126 [==============================] - 5s 36ms/step - loss: 1.2287 - accuracy: 0.4603 - val_loss: 2.0524 - val_accuracy: 0.2500\n",
      "Epoch 4/30\n",
      "126/126 [==============================] - 5s 36ms/step - loss: 1.1020 - accuracy: 0.5040 - val_loss: 1.5976 - val_accuracy: 0.2857\n",
      "Epoch 5/30\n",
      "126/126 [==============================] - 5s 36ms/step - loss: 1.0653 - accuracy: 0.5159 - val_loss: 1.9144 - val_accuracy: 0.3214\n",
      "Epoch 6/30\n",
      "126/126 [==============================] - 5s 36ms/step - loss: 0.9521 - accuracy: 0.6111 - val_loss: 1.5098 - val_accuracy: 0.2857\n",
      "Epoch 7/30\n",
      "126/126 [==============================] - 5s 36ms/step - loss: 0.9228 - accuracy: 0.6310 - val_loss: 1.6709 - val_accuracy: 0.2857\n",
      "Epoch 8/30\n",
      "126/126 [==============================] - 5s 36ms/step - loss: 0.9172 - accuracy: 0.6349 - val_loss: 1.4635 - val_accuracy: 0.3214\n",
      "Epoch 9/30\n",
      "126/126 [==============================] - 5s 36ms/step - loss: 0.8370 - accuracy: 0.7024 - val_loss: 1.4505 - val_accuracy: 0.3214\n",
      "Epoch 10/30\n",
      "126/126 [==============================] - 5s 36ms/step - loss: 0.7570 - accuracy: 0.7341 - val_loss: 1.3655 - val_accuracy: 0.5000\n",
      "Epoch 11/30\n",
      "126/126 [==============================] - 5s 36ms/step - loss: 0.7147 - accuracy: 0.7778 - val_loss: 1.5287 - val_accuracy: 0.4286\n",
      "Epoch 12/30\n",
      "126/126 [==============================] - 5s 36ms/step - loss: 0.6924 - accuracy: 0.7579 - val_loss: 1.3092 - val_accuracy: 0.5000\n",
      "Epoch 13/30\n",
      "126/126 [==============================] - 5s 36ms/step - loss: 0.6518 - accuracy: 0.7778 - val_loss: 1.3959 - val_accuracy: 0.3214\n",
      "Epoch 14/30\n",
      "126/126 [==============================] - 5s 36ms/step - loss: 0.6271 - accuracy: 0.8016 - val_loss: 1.5294 - val_accuracy: 0.2857\n",
      "Epoch 15/30\n",
      "126/126 [==============================] - 5s 36ms/step - loss: 0.5743 - accuracy: 0.8413 - val_loss: 1.2382 - val_accuracy: 0.5357\n",
      "Epoch 16/30\n",
      "126/126 [==============================] - 5s 36ms/step - loss: 0.5492 - accuracy: 0.8452 - val_loss: 1.4076 - val_accuracy: 0.5357\n",
      "Epoch 17/30\n",
      "126/126 [==============================] - 5s 36ms/step - loss: 0.5636 - accuracy: 0.7976 - val_loss: 1.2324 - val_accuracy: 0.5357\n",
      "Epoch 18/30\n",
      "126/126 [==============================] - 5s 37ms/step - loss: 0.5056 - accuracy: 0.8571 - val_loss: 1.2608 - val_accuracy: 0.5714\n",
      "Epoch 19/30\n",
      "126/126 [==============================] - 5s 36ms/step - loss: 0.5457 - accuracy: 0.7817 - val_loss: 1.5202 - val_accuracy: 0.5357\n",
      "Epoch 20/30\n",
      "126/126 [==============================] - 5s 36ms/step - loss: 0.4789 - accuracy: 0.8849 - val_loss: 1.4561 - val_accuracy: 0.3571\n",
      "Epoch 21/30\n",
      "126/126 [==============================] - 5s 36ms/step - loss: 0.5218 - accuracy: 0.8135 - val_loss: 1.3708 - val_accuracy: 0.5357\n",
      "Epoch 22/30\n",
      "126/126 [==============================] - 5s 36ms/step - loss: 0.4511 - accuracy: 0.8730 - val_loss: 1.1755 - val_accuracy: 0.6071\n",
      "Epoch 23/30\n",
      "126/126 [==============================] - 5s 36ms/step - loss: 0.4346 - accuracy: 0.8810 - val_loss: 1.4595 - val_accuracy: 0.4643\n",
      "Epoch 24/30\n",
      "126/126 [==============================] - 5s 37ms/step - loss: 0.4359 - accuracy: 0.8889 - val_loss: 1.2060 - val_accuracy: 0.5714\n",
      "Epoch 25/30\n",
      "126/126 [==============================] - 5s 36ms/step - loss: 0.3903 - accuracy: 0.9127 - val_loss: 1.1733 - val_accuracy: 0.5714\n",
      "Epoch 26/30\n",
      "126/126 [==============================] - 5s 36ms/step - loss: 0.3980 - accuracy: 0.9087 - val_loss: 1.3531 - val_accuracy: 0.5714\n",
      "Epoch 27/30\n",
      "126/126 [==============================] - 5s 36ms/step - loss: 0.3833 - accuracy: 0.8968 - val_loss: 1.2293 - val_accuracy: 0.5714\n",
      "Epoch 28/30\n",
      "126/126 [==============================] - 5s 36ms/step - loss: 0.4198 - accuracy: 0.8929 - val_loss: 1.2133 - val_accuracy: 0.6429\n",
      "Epoch 29/30\n",
      "126/126 [==============================] - 5s 36ms/step - loss: 0.3667 - accuracy: 0.9048 - val_loss: 1.2773 - val_accuracy: 0.5714\n",
      "Epoch 30/30\n",
      "126/126 [==============================] - 5s 37ms/step - loss: 0.3578 - accuracy: 0.9167 - val_loss: 1.2774 - val_accuracy: 0.5714\n"
     ]
    }
   ],
   "source": [
    "#optimizer \n",
    "optimizer = tf.keras.optimizers.Adamax(learning_rate = 0.001)\n",
    "\n",
    "#loss\n",
    "loss = tf.keras.losses.SparseCategoricalCrossentropy(from_logits = True)\n",
    "\n",
    "#model compiling\n",
    "model.compile(optimizer = optimizer, loss = loss, metrics = ['accuracy'])\n",
    "\n",
    "#model fitting \n",
    "result = model.fit(train_datagen, epochs = 30, verbose = 1, validation_data = test_datagen)"
   ]
  },
  {
   "cell_type": "markdown",
   "id": "5a51e2c2",
   "metadata": {},
   "source": [
    "<a id = '5'></a>\n",
    "## Visualization "
   ]
  },
  {
   "cell_type": "code",
   "execution_count": 12,
   "id": "497df6fd",
   "metadata": {},
   "outputs": [],
   "source": [
    "#data preparation\n",
    "acc = result.history['accuracy']\n",
    "val_acc = result.history['val_accuracy']\n",
    "acc_loss = result.history['loss']\n",
    "val_loss = result.history['val_loss']\n",
    "epochs = range(1, len(acc)+1)"
   ]
  },
  {
   "cell_type": "code",
   "execution_count": 13,
   "id": "d8cfa9a4",
   "metadata": {},
   "outputs": [
    {
     "data": {
      "image/png": "[encoded data removed]",
      "text/plain": [
       "<Figure size 1080x432 with 1 Axes>"
      ]
     },
     "metadata": {
      "needs_background": "light"
     },
     "output_type": "display_data"
    }
   ],
   "source": [
    "#plotting training accuracy and validation accuracy\n",
    "plt.figure(figsize = (15,6))\n",
    "plt.plot(epochs, acc, label = ('training accuracy'), color = 'orange')\n",
    "plt.plot(epochs, val_acc, label = ('validation accuracy'), color = 'blue')\n",
    "plt.title('Training acc vs Validation acc')\n",
    "plt.legend()\n",
    "plt.show()"
   ]
  },
  {
   "cell_type": "code",
   "execution_count": 14,
   "id": "6b32410f",
   "metadata": {},
   "outputs": [
    {
     "data": {
      "image/png": "[encoded data removed]",
      "text/plain": [
       "<Figure size 1080x432 with 1 Axes>"
      ]
     },
     "metadata": {
      "needs_background": "light"
     },
     "output_type": "display_data"
    }
   ],
   "source": [
    "#plotting training loss and validation loss\n",
    "plt.figure(figsize = (15,6))\n",
    "plt.plot(epochs, acc_loss, label = ('training loss'), color = 'green')\n",
    "plt.plot(epochs, val_loss, label = ('validation loss'), color = 'red')\n",
    "plt.title('Training Loss vs Validation Loss')\n",
    "plt.legend()\n",
    "plt.show()"
   ]
  }
 ],
 "metadata": {
  "kernelspec": {
   "display_name": "Python 3 (ipykernel)",
   "language": "python",
   "name": "python3"
  },
  "language_info": {
   "codemirror_mode": {
    "name": "ipython",
    "version": 3
   },
   "file_extension": ".py",
   "mimetype": "text/x-python",
   "name": "python",
   "nbconvert_exporter": "python",
   "pygments_lexer": "ipython3",
   "version": "3.9.12"
  }
 },
 "nbformat": 4,
 "nbformat_minor": 5
}
